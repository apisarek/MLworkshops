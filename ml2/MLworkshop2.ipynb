{
 "cells": [
  {
   "cell_type": "markdown",
   "metadata": {
    "collapsed": true
   },
   "source": [
    "# https://github.com/apisarek/MLworkshops"
   ]
  },
  {
   "cell_type": "code",
   "execution_count": null,
   "metadata": {
    "collapsed": false
   },
   "outputs": [],
   "source": [
    "import matplotlib.pyplot as plt\n",
    "import pandas as pd\n",
    "import numpy as np\n",
    "\n",
    "np.random.seed(42)\n",
    "%matplotlib inline"
   ]
  },
  {
   "cell_type": "code",
   "execution_count": null,
   "metadata": {
    "collapsed": false
   },
   "outputs": [],
   "source": [
    "houses = pd.read_csv('./kc_house_data.csv')\n",
    "sqft_living = houses[['sqft_living']].values[:, 0]\n",
    "price = np.array(houses['price'])\n",
    "houses.head()"
   ]
  },
  {
   "cell_type": "code",
   "execution_count": null,
   "metadata": {
    "collapsed": false
   },
   "outputs": [],
   "source": [
    "plt.scatter(sqft_living, price)\n",
    "plt.show()"
   ]
  },
  {
   "cell_type": "markdown",
   "metadata": {},
   "source": [
    "$h_W(X) = WX$"
   ]
  },
  {
   "cell_type": "code",
   "execution_count": null,
   "metadata": {
    "collapsed": false
   },
   "outputs": [],
   "source": [
    "def predict(weights, feature_vector):\n",
    "    return feature_vector @ weights"
   ]
  },
  {
   "cell_type": "markdown",
   "metadata": {},
   "source": [
    "$J(W) = \\sum (WX - Y)^2$"
   ]
  },
  {
   "cell_type": "code",
   "execution_count": null,
   "metadata": {
    "collapsed": true
   },
   "outputs": [],
   "source": [
    "def RSS(weights, feature_matrix, target):\n",
    "    prediction = predict(weights, feature_matrix)\n",
    "    return ((prediction - target) ** 2).sum()"
   ]
  },
  {
   "cell_type": "markdown",
   "metadata": {},
   "source": [
    "$J(W) = \\sum (WX - Y)^2 + \\lambda \\sum W^2$"
   ]
  },
  {
   "cell_type": "code",
   "execution_count": null,
   "metadata": {
    "collapsed": true
   },
   "outputs": [],
   "source": [
    "def regularized_RSS(weights, feature_matrix, target, regularization_size):\n",
    "    pass"
   ]
  },
  {
   "cell_type": "markdown",
   "metadata": {},
   "source": [
    "$\\frac{\\partial J}{\\partial W} = (WX - Y) X$"
   ]
  },
  {
   "cell_type": "code",
   "execution_count": null,
   "metadata": {
    "collapsed": true
   },
   "outputs": [],
   "source": [
    "def gradient_descent(feature_matrix, target, initialize_weights=lambda x: (np.zeros(x.shape[1])),\n",
    "                     alpha=1e-12, iterations=1000):\n",
    "    \n",
    "    current_weights = initialize_weights(feature_matrix)\n",
    "    for i in range(1, iterations):\n",
    "        prediction = predict(current_weights, feature_matrix)\n",
    "        error = prediction - target\n",
    "        cost = RSS(current_weights, feature_matrix, target)\n",
    "        \n",
    "        if i % (iterations / 10) == 0:\n",
    "            print('iteration: ', i, 'cost: ', cost)\n",
    "            \n",
    "        gradient = (error @ feature_matrix)\n",
    "        current_weights -= alpha * gradient\n",
    "        \n",
    "    print('optimization done')\n",
    "    return current_weights"
   ]
  },
  {
   "cell_type": "markdown",
   "metadata": {},
   "source": [
    "$\\frac{\\partial J}{\\partial W} = (WX - Y)X + \\lambda W$"
   ]
  },
  {
   "cell_type": "code",
   "execution_count": null,
   "metadata": {
    "collapsed": true
   },
   "outputs": [],
   "source": [
    "def regularized_gradient_descent(feature_matrix, target, initialize_weights=lambda x: (np.zeros(x.shape[1])),\n",
    "                                 alpha=1e-12, regularization_size=0.01, iterations=1000):\n",
    "    pass"
   ]
  },
  {
   "cell_type": "code",
   "execution_count": null,
   "metadata": {
    "collapsed": true
   },
   "outputs": [],
   "source": [
    "def momentum_gradient_descent(feature_matrix, target, initialize_weights=lambda x: (np.zeros(x.shape[1])),\n",
    "                              alpha=1e-12, regularization_size=0.01, iterations=1000, momentum=0.9):\n",
    "    pass"
   ]
  },
  {
   "cell_type": "markdown",
   "metadata": {},
   "source": [
    "$W=(X^T X)^{-1} X^T Y$"
   ]
  },
  {
   "cell_type": "code",
   "execution_count": null,
   "metadata": {
    "collapsed": true
   },
   "outputs": [],
   "source": [
    "def closed_form_solution(feature_matrix, target):\n",
    "    return np.linalg.pinv(feature_matrix.T @ feature_matrix) @ feature_matrix.T @ target"
   ]
  },
  {
   "cell_type": "markdown",
   "metadata": {},
   "source": [
    "$E=\\begin{bmatrix}\n",
    "1 & 0 & \\dots & 0\\\\ \n",
    "0 & 1 & \\dots & 0\\\\\n",
    "\\vdots & \\vdots & \\ddots & \\vdots\\\\ \n",
    "0 & 0 & \\dots & 1\n",
    "\\end{bmatrix}\\\\\n",
    "W=(X^T X + \\lambda E)^{-1} X^T Y$"
   ]
  },
  {
   "cell_type": "code",
   "execution_count": null,
   "metadata": {
    "collapsed": false
   },
   "outputs": [],
   "source": [
    "def regularized_closed_form_solution(feature_matrix, target, regularization_size=0.0):\n",
    "    pass"
   ]
  },
  {
   "cell_type": "code",
   "execution_count": null,
   "metadata": {
    "collapsed": false
   },
   "outputs": [],
   "source": [
    "def prepare_dataset(X1, Y):\n",
    "    X = np.column_stack((X1, np.ones_like(X1), X1 ** 2, ..., np.log(X1)))\n",
    "    X = X / X.max(axis=0)\n",
    "    Y = Y / Y.max()\n",
    "    return X, Y"
   ]
  },
  {
   "cell_type": "code",
   "execution_count": null,
   "metadata": {
    "collapsed": true
   },
   "outputs": [],
   "source": [
    "def plot_closed_form_regularization(dataset, regularizations, colors): \n",
    "#     plt.figure(figsize=(30,20))\n",
    "    X, Y = dataset\n",
    "    plt.scatter(X1, Y)\n",
    "    for regularization, color in zip(regularizations, colors):\n",
    "        weights = regularized_closed_form_solution(X, Y, regularization_size=regularization)\n",
    "        print('loss', regularized_RSS(weights, X, Y, regularization))\n",
    "        plt.plot(X1, predict(weights, X), color)   \n",
    "    plt.show()"
   ]
  },
  {
   "cell_type": "code",
   "execution_count": null,
   "metadata": {
    "collapsed": true
   },
   "outputs": [],
   "source": [
    "def plot_gradient_regularization(dataset, regularizations, colors, gradient_parameters): \n",
    "#     plt.figure(figsize=(30,20))\n",
    "    X, Y = dataset\n",
    "    plt.scatter(X1, Y)\n",
    "    for regularization, color in zip(regularizations, colors):\n",
    "        weights = regularized_gradient_descent(X, Y, regularization_size=regularization, **gradient_parameters)\n",
    "        plt.plot(X1, predict(weights, X), color)   \n",
    "    plt.show()"
   ]
  },
  {
   "cell_type": "code",
   "execution_count": null,
   "metadata": {
    "collapsed": false
   },
   "outputs": [],
   "source": [
    "order = sqft_living.argsort()\n",
    "X1 = sqft_living[order]\n",
    "Y = price[order]\n",
    "dataset = prepare_dataset(X1, Y)\n",
    "\n",
    "gradient_parameters = {'alpha': 0, 'iterations': 1}\n",
    "regularization_values = []\n",
    "colors = ['r', 'g', 'y', 'k']\n",
    "plot_closed_form_regularization(dataset, regularization_values, colors)\n",
    "# plot_gradient_regularization(dataset, regularization_values, colors, gradient_parameters)"
   ]
  },
  {
   "cell_type": "code",
   "execution_count": null,
   "metadata": {
    "collapsed": false
   },
   "outputs": [],
   "source": [
    "X1 = np.linspace(1, 15, 20)\n",
    "Y = 2 * np.sin(X1) + X1\n",
    "dataset = prepare_dataset(X1, Y)\n",
    "\n",
    "gradient_parameters = {'alpha': 0, 'iterations': 1}\n",
    "regularization_values = []\n",
    "colors = ['r', 'g', 'y', 'k']\n",
    "plot_closed_form_regularization(dataset, regularization_values, colors)\n",
    "# plot_gradient_regularization(dataset, regularization_values, colors, gradient_parameters)"
   ]
  },
  {
   "cell_type": "markdown",
   "metadata": {},
   "source": [
    "# classification example: http://cs.stanford.edu/people/karpathy/convnetjs/demo/classify2d.html"
   ]
  },
  {
   "cell_type": "markdown",
   "metadata": {},
   "source": [
    "- train, val, test split\n",
    "- minibatches"
   ]
  }
 ],
 "metadata": {
  "kernelspec": {
   "display_name": "Python 3",
   "language": "python",
   "name": "python3"
  },
  "language_info": {
   "codemirror_mode": {
    "name": "ipython",
    "version": 3
   },
   "file_extension": ".py",
   "mimetype": "text/x-python",
   "name": "python",
   "nbconvert_exporter": "python",
   "pygments_lexer": "ipython3",
   "version": "3.5.1"
  }
 },
 "nbformat": 4,
 "nbformat_minor": 0
}
