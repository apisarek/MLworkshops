{
 "cells": [
  {
   "cell_type": "markdown",
   "metadata": {},
   "source": [
    "# https://github.com/apisarek/MLworkshops"
   ]
  },
  {
   "cell_type": "code",
   "execution_count": null,
   "metadata": {
    "collapsed": true
   },
   "outputs": [],
   "source": [
    "import matplotlib.pyplot as plt\n",
    "import pandas as pd\n",
    "import pylab as pl\n",
    "import numpy as np\n",
    "%matplotlib inline"
   ]
  },
  {
   "cell_type": "code",
   "execution_count": null,
   "metadata": {
    "collapsed": false
   },
   "outputs": [],
   "source": [
    "irises = pd.read_csv('./iris_data.csv')\n",
    "irises.columns"
   ]
  },
  {
   "cell_type": "code",
   "execution_count": null,
   "metadata": {
    "collapsed": false
   },
   "outputs": [],
   "source": [
    "irises.species.unique()"
   ]
  },
  {
   "cell_type": "code",
   "execution_count": null,
   "metadata": {
    "collapsed": false
   },
   "outputs": [],
   "source": [
    "irises = irises[irises.species.isin(['Iris-setosa', 'Iris-versicolor'])]\n",
    "irises"
   ]
  },
  {
   "cell_type": "code",
   "execution_count": null,
   "metadata": {
    "collapsed": false
   },
   "outputs": [],
   "source": [
    "setosa = irises[irises.species == 'Iris-setosa']\n",
    "versicolor = irises[irises.species == 'Iris-versicolor']\n",
    "\n",
    "plt.plot(setosa.values[:, 0], setosa.values[:, 1], 'ro')[0].set_label('Iris-setosa')\n",
    "plt.plot(versicolor.values[:, 0], versicolor.values[:, 1], 'go')[0].set_label('Iris-versicolor')\n",
    "plt.legend()\n",
    "plt.show()"
   ]
  },
  {
   "cell_type": "code",
   "execution_count": null,
   "metadata": {
    "collapsed": false
   },
   "outputs": [],
   "source": [
    "X = (irises.values[:, :2]).astype(np.float)\n",
    "bias = np.ones(len(X))\n",
    "X = np.column_stack((X, bias))\n",
    "Y = (irises.values[:, -1] == 'Iris-setosa').astype(np.float)\n",
    "np.column_stack((X, Y))"
   ]
  },
  {
   "cell_type": "markdown",
   "metadata": {},
   "source": [
    "$\\sigma(x)=\\frac{1}{1 + e^{-x}}$"
   ]
  },
  {
   "cell_type": "code",
   "execution_count": null,
   "metadata": {
    "collapsed": true
   },
   "outputs": [],
   "source": [
    "def sigmoid(x):\n",
    "    # TODO\n",
    "    pass"
   ]
  },
  {
   "cell_type": "markdown",
   "metadata": {},
   "source": [
    "$h_W(X) = \\sigma(WX)$"
   ]
  },
  {
   "cell_type": "code",
   "execution_count": null,
   "metadata": {
    "collapsed": true
   },
   "outputs": [],
   "source": [
    "def predict(weights, feature_vector):\n",
    "    # TODO\n",
    "    pass"
   ]
  },
  {
   "cell_type": "code",
   "execution_count": null,
   "metadata": {
    "collapsed": false
   },
   "outputs": [],
   "source": [
    "# TODO: guess weights\n",
    "sample_weights = \n",
    "preditions = predict(sample_weights, X)\n",
    "np.column_stack((preditions, preditions.round(), Y))"
   ]
  },
  {
   "cell_type": "markdown",
   "metadata": {},
   "source": [
    "$J(W) = -\\sum(1 - Y)log(1 - WX) + Ylog(WX)$"
   ]
  },
  {
   "cell_type": "code",
   "execution_count": null,
   "metadata": {
    "collapsed": true
   },
   "outputs": [],
   "source": [
    "def logloss(weights, feature_matrix, target):\n",
    "    # TODO\n",
    "    pass"
   ]
  },
  {
   "cell_type": "code",
   "execution_count": null,
   "metadata": {
    "collapsed": true
   },
   "outputs": [],
   "source": [
    "def regularized_logloss(weights, feature_matrix, target, regularization_size):\n",
    "    # TODO\n",
    "    regularization = 0\n",
    "    return logloss(weights, feature_matrix, target) + regularization"
   ]
  },
  {
   "cell_type": "code",
   "execution_count": null,
   "metadata": {
    "collapsed": false
   },
   "outputs": [],
   "source": [
    "logloss(sample_weights, X, Y)"
   ]
  },
  {
   "cell_type": "code",
   "execution_count": null,
   "metadata": {
    "collapsed": false,
    "scrolled": true
   },
   "outputs": [],
   "source": [
    "def plot_classificatoin(weights):\n",
    "    h = 0.01\n",
    "    x_min, x_max = X[:, 0].min() - 1, X[:, 0].max() + 1\n",
    "    y_min, y_max = X[:, 1].min() - 1, X[:, 1].max() + 1\n",
    "    xx, yy = np.meshgrid(np.arange(x_min, x_max, h),\n",
    "                         np.arange(y_min, y_max, h))\n",
    "\n",
    "    Z = predict(weights, np.c_[xx.ravel(), yy.ravel(), np.ones_like(yy.ravel())]).round()\n",
    "\n",
    "    Z = Z.reshape(xx.shape)\n",
    "    plt.contourf(xx, yy, Z, cmap=pl.cm.Paired)\n",
    "\n",
    "    print('loss', logloss(weights, X, Y))\n",
    "    plt.scatter(X[:, 0], X[:, 1], c=Y, cmap=pl.cm.Paired)\n",
    "    plt.show()"
   ]
  },
  {
   "cell_type": "code",
   "execution_count": null,
   "metadata": {
    "collapsed": false
   },
   "outputs": [],
   "source": [
    "# TODO: plot weights\n",
    "plot_classificatoin()"
   ]
  },
  {
   "cell_type": "markdown",
   "metadata": {},
   "source": [
    "$\\frac{\\partial J}{\\partial W} = (WX - Y) X$"
   ]
  },
  {
   "cell_type": "code",
   "execution_count": null,
   "metadata": {
    "collapsed": true
   },
   "outputs": [],
   "source": [
    "def gradient_descent(feature_matrix, target, initialize_weights=lambda x: (np.zeros(x.shape[1])),\n",
    "                     alpha=0.01, iterations=1000):\n",
    "\n",
    "    current_weights = initialize_weights(feature_matrix)\n",
    "    for i in range(1, iterations):\n",
    "        prediction = predict(current_weights, feature_matrix)\n",
    "        cost = logloss(current_weights, feature_matrix, target)\n",
    "        \n",
    "        if i % (iterations / 10) == 0:\n",
    "            print('iteration: ', i, 'cost: ', cost)\n",
    "        \n",
    "        error = prediction - target\n",
    "        gradient = (error @ feature_matrix)\n",
    "        current_weights -= alpha * gradient\n",
    "        \n",
    "    print('optimization done')\n",
    "    return current_weights"
   ]
  },
  {
   "cell_type": "markdown",
   "metadata": {},
   "source": [
    "$\\frac{\\partial J}{\\partial W} = (WX - Y)X + \\lambda W$"
   ]
  },
  {
   "cell_type": "code",
   "execution_count": null,
   "metadata": {
    "collapsed": true
   },
   "outputs": [],
   "source": [
    "def regularized_gradient_descent(feature_matrix, target, initialize_weights=lambda x: (np.zeros(x.shape[1])),\n",
    "                                 alpha=1e-12, regularization_size=0.01, iterations=1000, momentum=0.9):\n",
    "    \n",
    "    # TODO: correct regularization\n",
    "    current_weights = initialize_weights(feature_matrix)\n",
    "    for i in range(1, iterations):\n",
    "        prediction = predict(current_weights, feature_matrix)\n",
    "        error = prediction - target\n",
    "        cost = regularized_logloss(current_weights, feature_matrix, target, regularization_size)\n",
    "        \n",
    "        if i % (iterations / 10) == 0:\n",
    "            print('iteration: ', i, 'cost: ', cost)\n",
    "            \n",
    "        regularization = regularization_size * current_weights\n",
    "        gradient = (error @ feature_matrix) + regularization\n",
    "        current_weights -= alpha * gradient\n",
    "        \n",
    "    print('optimization done')\n",
    "    return current_weights"
   ]
  },
  {
   "cell_type": "code",
   "execution_count": null,
   "metadata": {
    "collapsed": false
   },
   "outputs": [],
   "source": [
    "best_weights = regularized_gradient_descent(X, Y, alpha=0.01)\n",
    "best_weights"
   ]
  },
  {
   "cell_type": "code",
   "execution_count": null,
   "metadata": {
    "collapsed": false
   },
   "outputs": [],
   "source": [
    "plot_classificatoin(best_weights)"
   ]
  },
  {
   "cell_type": "markdown",
   "metadata": {},
   "source": [
    "http://playground.tensorflow.org/#activation=sigmoid&batchSize=10&dataset=gauss&regDataset=reg-plane&learningRate=0.03&regularizationRate=0&noise=0&networkShape=1&seed=0.60965&showTestData=false&discretize=false&percTrainData=50&x=true&y=true&xTimesY=false&xSquared=false&ySquared=false&cosX=false&sinX=false&cosY=false&sinY=false&collectStats=false&problem=classification&percTrainData_hide=true&numHiddenLayers_hide=true&noise_hide=true&activation_hide=false&batchSize_hide=true"
   ]
  }
 ],
 "metadata": {
  "kernelspec": {
   "display_name": "Python 3",
   "language": "python",
   "name": "python3"
  },
  "language_info": {
   "codemirror_mode": {
    "name": "ipython",
    "version": 3
   },
   "file_extension": ".py",
   "mimetype": "text/x-python",
   "name": "python",
   "nbconvert_exporter": "python",
   "pygments_lexer": "ipython3",
   "version": "3.5.1"
  }
 },
 "nbformat": 4,
 "nbformat_minor": 0
}
