{
 "cells": [
  {
   "cell_type": "markdown",
   "metadata": {
    "collapsed": true
   },
   "source": [
    "# https://github.com/apisarek/MLworkshops"
   ]
  },
  {
   "cell_type": "code",
   "execution_count": 1,
   "metadata": {
    "collapsed": false
   },
   "outputs": [],
   "source": [
    "import matplotlib.pyplot as plt\n",
    "import pandas as pd\n",
    "import numpy as np\n",
    "\n",
    "np.random.seed(42)\n",
    "plt.rcParams['figure.figsize'] = (20.0, 12.0)"
   ]
  },
  {
   "cell_type": "code",
   "execution_count": 32,
   "metadata": {
    "collapsed": false
   },
   "outputs": [
    {
     "name": "stdout",
     "output_type": "stream",
     "text": [
      "dict_keys(['DESCR', 'target_names', 'feature_names', 'data', 'target'])\n"
     ]
    }
   ],
   "source": [
    "from sklearn.datasets import load_iris\n",
    "iris = load_iris()\n",
    "print(iris.keys())"
   ]
  },
  {
   "cell_type": "code",
   "execution_count": 24,
   "metadata": {
    "collapsed": false
   },
   "outputs": [
    {
     "ename": "TypeError",
     "evalue": "unhashable type: 'list'",
     "output_type": "error",
     "traceback": [
      "\u001b[1;31m---------------------------------------------------------------------------\u001b[0m",
      "\u001b[1;31mTypeError\u001b[0m                                 Traceback (most recent call last)",
      "\u001b[1;32m<ipython-input-24-70f9f940ca17>\u001b[0m in \u001b[0;36m<module>\u001b[1;34m()\u001b[0m\n\u001b[0;32m      6\u001b[0m     \u001b[0mpd_data\u001b[0m\u001b[1;33m[\u001b[0m\u001b[0mtarget_name\u001b[0m\u001b[1;33m]\u001b[0m \u001b[1;33m=\u001b[0m \u001b[1;33m(\u001b[0m\u001b[0mpd_data\u001b[0m\u001b[1;33m[\u001b[0m\u001b[1;34m'types'\u001b[0m\u001b[1;33m]\u001b[0m \u001b[1;33m==\u001b[0m \u001b[0midx\u001b[0m\u001b[1;33m)\u001b[0m\u001b[1;33m.\u001b[0m\u001b[0mastype\u001b[0m\u001b[1;33m(\u001b[0m\u001b[0mint\u001b[0m\u001b[1;33m)\u001b[0m\u001b[1;33m\u001b[0m\u001b[0m\n\u001b[0;32m      7\u001b[0m \u001b[1;33m\u001b[0m\u001b[0m\n\u001b[1;32m----> 8\u001b[1;33m \u001b[0mpd_data\u001b[0m\u001b[1;33m[\u001b[0m\u001b[1;33m[\u001b[0m\u001b[1;36m0\u001b[0m\u001b[1;33m,\u001b[0m \u001b[1;36m1\u001b[0m\u001b[1;33m,\u001b[0m \u001b[1;36m2\u001b[0m\u001b[1;33m,\u001b[0m \u001b[1;36m3\u001b[0m\u001b[1;33m]\u001b[0m\u001b[1;33m,\u001b[0m \u001b[1;33m[\u001b[0m\u001b[1;34m'setosa'\u001b[0m\u001b[1;33m]\u001b[0m\u001b[1;33m]\u001b[0m\u001b[1;33m\u001b[0m\u001b[0m\n\u001b[0m",
      "\u001b[1;32m/home/unj/anaconda3/envs/my-env/lib/python3.5/site-packages/pandas/core/frame.py\u001b[0m in \u001b[0;36m__getitem__\u001b[1;34m(self, key)\u001b[0m\n\u001b[0;32m   1967\u001b[0m             \u001b[1;32mreturn\u001b[0m \u001b[0mself\u001b[0m\u001b[1;33m.\u001b[0m\u001b[0m_getitem_multilevel\u001b[0m\u001b[1;33m(\u001b[0m\u001b[0mkey\u001b[0m\u001b[1;33m)\u001b[0m\u001b[1;33m\u001b[0m\u001b[0m\n\u001b[0;32m   1968\u001b[0m         \u001b[1;32melse\u001b[0m\u001b[1;33m:\u001b[0m\u001b[1;33m\u001b[0m\u001b[0m\n\u001b[1;32m-> 1969\u001b[1;33m             \u001b[1;32mreturn\u001b[0m \u001b[0mself\u001b[0m\u001b[1;33m.\u001b[0m\u001b[0m_getitem_column\u001b[0m\u001b[1;33m(\u001b[0m\u001b[0mkey\u001b[0m\u001b[1;33m)\u001b[0m\u001b[1;33m\u001b[0m\u001b[0m\n\u001b[0m\u001b[0;32m   1970\u001b[0m \u001b[1;33m\u001b[0m\u001b[0m\n\u001b[0;32m   1971\u001b[0m     \u001b[1;32mdef\u001b[0m \u001b[0m_getitem_column\u001b[0m\u001b[1;33m(\u001b[0m\u001b[0mself\u001b[0m\u001b[1;33m,\u001b[0m \u001b[0mkey\u001b[0m\u001b[1;33m)\u001b[0m\u001b[1;33m:\u001b[0m\u001b[1;33m\u001b[0m\u001b[0m\n",
      "\u001b[1;32m/home/unj/anaconda3/envs/my-env/lib/python3.5/site-packages/pandas/core/frame.py\u001b[0m in \u001b[0;36m_getitem_column\u001b[1;34m(self, key)\u001b[0m\n\u001b[0;32m   1974\u001b[0m         \u001b[1;31m# get column\u001b[0m\u001b[1;33m\u001b[0m\u001b[1;33m\u001b[0m\u001b[0m\n\u001b[0;32m   1975\u001b[0m         \u001b[1;32mif\u001b[0m \u001b[0mself\u001b[0m\u001b[1;33m.\u001b[0m\u001b[0mcolumns\u001b[0m\u001b[1;33m.\u001b[0m\u001b[0mis_unique\u001b[0m\u001b[1;33m:\u001b[0m\u001b[1;33m\u001b[0m\u001b[0m\n\u001b[1;32m-> 1976\u001b[1;33m             \u001b[1;32mreturn\u001b[0m \u001b[0mself\u001b[0m\u001b[1;33m.\u001b[0m\u001b[0m_get_item_cache\u001b[0m\u001b[1;33m(\u001b[0m\u001b[0mkey\u001b[0m\u001b[1;33m)\u001b[0m\u001b[1;33m\u001b[0m\u001b[0m\n\u001b[0m\u001b[0;32m   1977\u001b[0m \u001b[1;33m\u001b[0m\u001b[0m\n\u001b[0;32m   1978\u001b[0m         \u001b[1;31m# duplicate columns & possible reduce dimensionality\u001b[0m\u001b[1;33m\u001b[0m\u001b[1;33m\u001b[0m\u001b[0m\n",
      "\u001b[1;32m/home/unj/anaconda3/envs/my-env/lib/python3.5/site-packages/pandas/core/generic.py\u001b[0m in \u001b[0;36m_get_item_cache\u001b[1;34m(self, item)\u001b[0m\n\u001b[0;32m   1087\u001b[0m         \u001b[1;34m\"\"\" return the cached item, item represents a label indexer \"\"\"\u001b[0m\u001b[1;33m\u001b[0m\u001b[0m\n\u001b[0;32m   1088\u001b[0m         \u001b[0mcache\u001b[0m \u001b[1;33m=\u001b[0m \u001b[0mself\u001b[0m\u001b[1;33m.\u001b[0m\u001b[0m_item_cache\u001b[0m\u001b[1;33m\u001b[0m\u001b[0m\n\u001b[1;32m-> 1089\u001b[1;33m         \u001b[0mres\u001b[0m \u001b[1;33m=\u001b[0m \u001b[0mcache\u001b[0m\u001b[1;33m.\u001b[0m\u001b[0mget\u001b[0m\u001b[1;33m(\u001b[0m\u001b[0mitem\u001b[0m\u001b[1;33m)\u001b[0m\u001b[1;33m\u001b[0m\u001b[0m\n\u001b[0m\u001b[0;32m   1090\u001b[0m         \u001b[1;32mif\u001b[0m \u001b[0mres\u001b[0m \u001b[1;32mis\u001b[0m \u001b[1;32mNone\u001b[0m\u001b[1;33m:\u001b[0m\u001b[1;33m\u001b[0m\u001b[0m\n\u001b[0;32m   1091\u001b[0m             \u001b[0mvalues\u001b[0m \u001b[1;33m=\u001b[0m \u001b[0mself\u001b[0m\u001b[1;33m.\u001b[0m\u001b[0m_data\u001b[0m\u001b[1;33m.\u001b[0m\u001b[0mget\u001b[0m\u001b[1;33m(\u001b[0m\u001b[0mitem\u001b[0m\u001b[1;33m)\u001b[0m\u001b[1;33m\u001b[0m\u001b[0m\n",
      "\u001b[1;31mTypeError\u001b[0m: unhashable type: 'list'"
     ]
    }
   ],
   "source": [
    "data = np.array(iris.data)\n",
    "target = np.array(iris.target)\n",
    "pd_data = pd.DataFrame(data, columns=iris.feature_names)\n",
    "pd_data['types'] = target\n",
    "for idx, target_name in enumerate(iris.target_names):\n",
    "    pd_data[target_name] = (pd_data['types'] == idx).astype(int)"
   ]
  },
  {
   "cell_type": "code",
   "execution_count": null,
   "metadata": {
    "collapsed": false
   },
   "outputs": [],
   "source": [
    "def predict(weights, feature_vector):\n",
    "    return feature_vector @ weights"
   ]
  },
  {
   "cell_type": "code",
   "execution_count": null,
   "metadata": {
    "collapsed": true
   },
   "outputs": [],
   "source": [
    "def RSS(weights, feature_matrix, target):\n",
    "    prediction = predict(weights, feature_matrix)\n",
    "    return ((prediction - target) ** 2).sum()"
   ]
  },
  {
   "cell_type": "code",
   "execution_count": null,
   "metadata": {
    "collapsed": true
   },
   "outputs": [],
   "source": [
    "def regularized_RSS(weights, feature_matrix, target, regularization_size):\n",
    "    rss = RSS(weights, feature_matrix, target)\n",
    "    return rss + regularization_size * weights.dot(weights)\n",
    "    "
   ]
  },
  {
   "cell_type": "code",
   "execution_count": null,
   "metadata": {
    "collapsed": true
   },
   "outputs": [],
   "source": [
    "def gradient_descent(feature_matrix, target, initialize_weights=lambda x: (np.zeros(x.shape[1])),\n",
    "                     alpha=1e-12, iterations=1000):\n",
    "    \n",
    "    current_weights = initialize_weights(feature_matrix)\n",
    "    for i in range(1, iterations):\n",
    "        prediction = predict(current_weights, feature_matrix)\n",
    "        error = prediction - target\n",
    "#         cost = RSS(current_weights, feature_matrix, target)\n",
    "        \n",
    "#         if i % (iterations / 10) == 0:\n",
    "#             print('iteration: ', i, 'cost: ', cost)\n",
    "            \n",
    "        gradient = (error @ feature_matrix)\n",
    "        current_weights -= alpha * gradient\n",
    "        \n",
    "#     print('optimization done')\n",
    "    return current_weights"
   ]
  },
  {
   "cell_type": "code",
   "execution_count": null,
   "metadata": {
    "collapsed": false
   },
   "outputs": [],
   "source": [
    "def regularized_gradient_descent(feature_matrix, target, initialize_weights=lambda x: (np.zeros(x.shape[1])),\n",
    "                                 alpha=1e-12, regularization_size=0.01, iterations=1000):\n",
    "    current_weights = initialize_weights(feature_matrix)\n",
    "    for i in range(1, iterations):\n",
    "        prediction = predict(current_weights, feature_matrix)\n",
    "        error = prediction - target\n",
    "        cost = regularized_RSS(current_weights, feature_matrix, target, regularization_size)\n",
    "        \n",
    "        if i % (iterations / 10) == 0:\n",
    "            print('iteration: ', i, 'cost: ', cost)\n",
    "            \n",
    "        gradient = (error @ feature_matrix) + regularization_size * current_weights\n",
    "        current_weights -= alpha * gradient\n",
    "        \n",
    "    print('optimization done')\n",
    "    return current_weights"
   ]
  },
  {
   "cell_type": "code",
   "execution_count": 30,
   "metadata": {
    "collapsed": false
   },
   "outputs": [],
   "source": [
    "def prepare_dataset(pd_data, predict_class='setosa'):\n",
    "    X = np.array(pd_data[[0,1,2,3]])\n",
    "    Y = np.array(pd_data[predict_class])\n",
    "    #X = np.column_stack([X1 ** i for i in range(15)])\n",
    "    \n",
    "    X = X / X.max(axis=0)\n",
    "    return X, Y"
   ]
  },
  {
   "cell_type": "code",
   "execution_count": 31,
   "metadata": {
    "collapsed": false
   },
   "outputs": [
    {
     "data": {
      "text/plain": [
       "(array([[ 0.64556962,  0.79545455,  0.20289855,  0.08      ],\n",
       "        [ 0.62025316,  0.68181818,  0.20289855,  0.08      ],\n",
       "        [ 0.59493671,  0.72727273,  0.1884058 ,  0.08      ],\n",
       "        [ 0.58227848,  0.70454545,  0.2173913 ,  0.08      ],\n",
       "        [ 0.63291139,  0.81818182,  0.20289855,  0.08      ],\n",
       "        [ 0.6835443 ,  0.88636364,  0.24637681,  0.16      ],\n",
       "        [ 0.58227848,  0.77272727,  0.20289855,  0.12      ],\n",
       "        [ 0.63291139,  0.77272727,  0.2173913 ,  0.08      ],\n",
       "        [ 0.55696203,  0.65909091,  0.20289855,  0.08      ],\n",
       "        [ 0.62025316,  0.70454545,  0.2173913 ,  0.04      ],\n",
       "        [ 0.6835443 ,  0.84090909,  0.2173913 ,  0.08      ],\n",
       "        [ 0.60759494,  0.77272727,  0.23188406,  0.08      ],\n",
       "        [ 0.60759494,  0.68181818,  0.20289855,  0.04      ],\n",
       "        [ 0.5443038 ,  0.68181818,  0.15942029,  0.04      ],\n",
       "        [ 0.73417722,  0.90909091,  0.17391304,  0.08      ],\n",
       "        [ 0.72151899,  1.        ,  0.2173913 ,  0.16      ],\n",
       "        [ 0.6835443 ,  0.88636364,  0.1884058 ,  0.16      ],\n",
       "        [ 0.64556962,  0.79545455,  0.20289855,  0.12      ],\n",
       "        [ 0.72151899,  0.86363636,  0.24637681,  0.12      ],\n",
       "        [ 0.64556962,  0.86363636,  0.2173913 ,  0.12      ],\n",
       "        [ 0.6835443 ,  0.77272727,  0.24637681,  0.08      ],\n",
       "        [ 0.64556962,  0.84090909,  0.2173913 ,  0.16      ],\n",
       "        [ 0.58227848,  0.81818182,  0.14492754,  0.08      ],\n",
       "        [ 0.64556962,  0.75      ,  0.24637681,  0.2       ],\n",
       "        [ 0.60759494,  0.77272727,  0.27536232,  0.08      ],\n",
       "        [ 0.63291139,  0.68181818,  0.23188406,  0.08      ],\n",
       "        [ 0.63291139,  0.77272727,  0.23188406,  0.16      ],\n",
       "        [ 0.65822785,  0.79545455,  0.2173913 ,  0.08      ],\n",
       "        [ 0.65822785,  0.77272727,  0.20289855,  0.08      ],\n",
       "        [ 0.59493671,  0.72727273,  0.23188406,  0.08      ],\n",
       "        [ 0.60759494,  0.70454545,  0.23188406,  0.08      ],\n",
       "        [ 0.6835443 ,  0.77272727,  0.2173913 ,  0.16      ],\n",
       "        [ 0.65822785,  0.93181818,  0.2173913 ,  0.04      ],\n",
       "        [ 0.69620253,  0.95454545,  0.20289855,  0.08      ],\n",
       "        [ 0.62025316,  0.70454545,  0.2173913 ,  0.04      ],\n",
       "        [ 0.63291139,  0.72727273,  0.17391304,  0.08      ],\n",
       "        [ 0.69620253,  0.79545455,  0.1884058 ,  0.08      ],\n",
       "        [ 0.62025316,  0.70454545,  0.2173913 ,  0.04      ],\n",
       "        [ 0.55696203,  0.68181818,  0.1884058 ,  0.08      ],\n",
       "        [ 0.64556962,  0.77272727,  0.2173913 ,  0.08      ],\n",
       "        [ 0.63291139,  0.79545455,  0.1884058 ,  0.12      ],\n",
       "        [ 0.56962025,  0.52272727,  0.1884058 ,  0.12      ],\n",
       "        [ 0.55696203,  0.72727273,  0.1884058 ,  0.08      ],\n",
       "        [ 0.63291139,  0.79545455,  0.23188406,  0.24      ],\n",
       "        [ 0.64556962,  0.86363636,  0.27536232,  0.16      ],\n",
       "        [ 0.60759494,  0.68181818,  0.20289855,  0.12      ],\n",
       "        [ 0.64556962,  0.86363636,  0.23188406,  0.08      ],\n",
       "        [ 0.58227848,  0.72727273,  0.20289855,  0.08      ],\n",
       "        [ 0.67088608,  0.84090909,  0.2173913 ,  0.08      ],\n",
       "        [ 0.63291139,  0.75      ,  0.20289855,  0.08      ],\n",
       "        [ 0.88607595,  0.72727273,  0.68115942,  0.56      ],\n",
       "        [ 0.81012658,  0.72727273,  0.65217391,  0.6       ],\n",
       "        [ 0.87341772,  0.70454545,  0.71014493,  0.6       ],\n",
       "        [ 0.69620253,  0.52272727,  0.57971014,  0.52      ],\n",
       "        [ 0.82278481,  0.63636364,  0.66666667,  0.6       ],\n",
       "        [ 0.72151899,  0.63636364,  0.65217391,  0.52      ],\n",
       "        [ 0.79746835,  0.75      ,  0.68115942,  0.64      ],\n",
       "        [ 0.62025316,  0.54545455,  0.47826087,  0.4       ],\n",
       "        [ 0.83544304,  0.65909091,  0.66666667,  0.52      ],\n",
       "        [ 0.65822785,  0.61363636,  0.56521739,  0.56      ],\n",
       "        [ 0.63291139,  0.45454545,  0.50724638,  0.4       ],\n",
       "        [ 0.74683544,  0.68181818,  0.60869565,  0.6       ],\n",
       "        [ 0.75949367,  0.5       ,  0.57971014,  0.4       ],\n",
       "        [ 0.7721519 ,  0.65909091,  0.68115942,  0.56      ],\n",
       "        [ 0.70886076,  0.65909091,  0.52173913,  0.52      ],\n",
       "        [ 0.84810127,  0.70454545,  0.63768116,  0.56      ],\n",
       "        [ 0.70886076,  0.68181818,  0.65217391,  0.6       ],\n",
       "        [ 0.73417722,  0.61363636,  0.5942029 ,  0.4       ],\n",
       "        [ 0.78481013,  0.5       ,  0.65217391,  0.6       ],\n",
       "        [ 0.70886076,  0.56818182,  0.56521739,  0.44      ],\n",
       "        [ 0.74683544,  0.72727273,  0.69565217,  0.72      ],\n",
       "        [ 0.7721519 ,  0.63636364,  0.57971014,  0.52      ],\n",
       "        [ 0.79746835,  0.56818182,  0.71014493,  0.6       ],\n",
       "        [ 0.7721519 ,  0.63636364,  0.68115942,  0.48      ],\n",
       "        [ 0.81012658,  0.65909091,  0.62318841,  0.52      ],\n",
       "        [ 0.83544304,  0.68181818,  0.63768116,  0.56      ],\n",
       "        [ 0.86075949,  0.63636364,  0.69565217,  0.56      ],\n",
       "        [ 0.84810127,  0.68181818,  0.72463768,  0.68      ],\n",
       "        [ 0.75949367,  0.65909091,  0.65217391,  0.6       ],\n",
       "        [ 0.72151899,  0.59090909,  0.50724638,  0.4       ],\n",
       "        [ 0.69620253,  0.54545455,  0.55072464,  0.44      ],\n",
       "        [ 0.69620253,  0.54545455,  0.53623188,  0.4       ],\n",
       "        [ 0.73417722,  0.61363636,  0.56521739,  0.48      ],\n",
       "        [ 0.75949367,  0.61363636,  0.73913043,  0.64      ],\n",
       "        [ 0.6835443 ,  0.68181818,  0.65217391,  0.6       ],\n",
       "        [ 0.75949367,  0.77272727,  0.65217391,  0.64      ],\n",
       "        [ 0.84810127,  0.70454545,  0.68115942,  0.6       ],\n",
       "        [ 0.79746835,  0.52272727,  0.63768116,  0.52      ],\n",
       "        [ 0.70886076,  0.68181818,  0.5942029 ,  0.52      ],\n",
       "        [ 0.69620253,  0.56818182,  0.57971014,  0.52      ],\n",
       "        [ 0.69620253,  0.59090909,  0.63768116,  0.48      ],\n",
       "        [ 0.7721519 ,  0.68181818,  0.66666667,  0.56      ],\n",
       "        [ 0.73417722,  0.59090909,  0.57971014,  0.48      ],\n",
       "        [ 0.63291139,  0.52272727,  0.47826087,  0.4       ],\n",
       "        [ 0.70886076,  0.61363636,  0.60869565,  0.52      ],\n",
       "        [ 0.72151899,  0.68181818,  0.60869565,  0.48      ],\n",
       "        [ 0.72151899,  0.65909091,  0.60869565,  0.52      ],\n",
       "        [ 0.78481013,  0.65909091,  0.62318841,  0.52      ],\n",
       "        [ 0.64556962,  0.56818182,  0.43478261,  0.44      ],\n",
       "        [ 0.72151899,  0.63636364,  0.5942029 ,  0.52      ],\n",
       "        [ 0.79746835,  0.75      ,  0.86956522,  1.        ],\n",
       "        [ 0.73417722,  0.61363636,  0.73913043,  0.76      ],\n",
       "        [ 0.89873418,  0.68181818,  0.85507246,  0.84      ],\n",
       "        [ 0.79746835,  0.65909091,  0.8115942 ,  0.72      ],\n",
       "        [ 0.82278481,  0.68181818,  0.84057971,  0.88      ],\n",
       "        [ 0.96202532,  0.68181818,  0.95652174,  0.84      ],\n",
       "        [ 0.62025316,  0.56818182,  0.65217391,  0.68      ],\n",
       "        [ 0.92405063,  0.65909091,  0.91304348,  0.72      ],\n",
       "        [ 0.84810127,  0.56818182,  0.84057971,  0.72      ],\n",
       "        [ 0.91139241,  0.81818182,  0.88405797,  1.        ],\n",
       "        [ 0.82278481,  0.72727273,  0.73913043,  0.8       ],\n",
       "        [ 0.81012658,  0.61363636,  0.76811594,  0.76      ],\n",
       "        [ 0.86075949,  0.68181818,  0.79710145,  0.84      ],\n",
       "        [ 0.72151899,  0.56818182,  0.72463768,  0.8       ],\n",
       "        [ 0.73417722,  0.63636364,  0.73913043,  0.96      ],\n",
       "        [ 0.81012658,  0.72727273,  0.76811594,  0.92      ],\n",
       "        [ 0.82278481,  0.68181818,  0.79710145,  0.72      ],\n",
       "        [ 0.97468354,  0.86363636,  0.97101449,  0.88      ],\n",
       "        [ 0.97468354,  0.59090909,  1.        ,  0.92      ],\n",
       "        [ 0.75949367,  0.5       ,  0.72463768,  0.6       ],\n",
       "        [ 0.87341772,  0.72727273,  0.82608696,  0.92      ],\n",
       "        [ 0.70886076,  0.63636364,  0.71014493,  0.8       ],\n",
       "        [ 0.97468354,  0.63636364,  0.97101449,  0.8       ],\n",
       "        [ 0.79746835,  0.61363636,  0.71014493,  0.72      ],\n",
       "        [ 0.84810127,  0.75      ,  0.82608696,  0.84      ],\n",
       "        [ 0.91139241,  0.72727273,  0.86956522,  0.72      ],\n",
       "        [ 0.78481013,  0.63636364,  0.69565217,  0.72      ],\n",
       "        [ 0.7721519 ,  0.68181818,  0.71014493,  0.72      ],\n",
       "        [ 0.81012658,  0.63636364,  0.8115942 ,  0.84      ],\n",
       "        [ 0.91139241,  0.68181818,  0.84057971,  0.64      ],\n",
       "        [ 0.93670886,  0.63636364,  0.88405797,  0.76      ],\n",
       "        [ 1.        ,  0.86363636,  0.92753623,  0.8       ],\n",
       "        [ 0.81012658,  0.63636364,  0.8115942 ,  0.88      ],\n",
       "        [ 0.79746835,  0.63636364,  0.73913043,  0.6       ],\n",
       "        [ 0.7721519 ,  0.59090909,  0.8115942 ,  0.56      ],\n",
       "        [ 0.97468354,  0.68181818,  0.88405797,  0.92      ],\n",
       "        [ 0.79746835,  0.77272727,  0.8115942 ,  0.96      ],\n",
       "        [ 0.81012658,  0.70454545,  0.79710145,  0.72      ],\n",
       "        [ 0.75949367,  0.68181818,  0.69565217,  0.72      ],\n",
       "        [ 0.87341772,  0.70454545,  0.7826087 ,  0.84      ],\n",
       "        [ 0.84810127,  0.70454545,  0.8115942 ,  0.96      ],\n",
       "        [ 0.87341772,  0.70454545,  0.73913043,  0.92      ],\n",
       "        [ 0.73417722,  0.61363636,  0.73913043,  0.76      ],\n",
       "        [ 0.86075949,  0.72727273,  0.85507246,  0.92      ],\n",
       "        [ 0.84810127,  0.75      ,  0.82608696,  1.        ],\n",
       "        [ 0.84810127,  0.68181818,  0.75362319,  0.92      ],\n",
       "        [ 0.79746835,  0.56818182,  0.72463768,  0.76      ],\n",
       "        [ 0.82278481,  0.68181818,  0.75362319,  0.8       ],\n",
       "        [ 0.78481013,  0.77272727,  0.7826087 ,  0.92      ],\n",
       "        [ 0.74683544,  0.68181818,  0.73913043,  0.72      ]]),\n",
       " array([1, 1, 1, 1, 1, 1, 1, 1, 1, 1, 1, 1, 1, 1, 1, 1, 1, 1, 1, 1, 1, 1, 1,\n",
       "        1, 1, 1, 1, 1, 1, 1, 1, 1, 1, 1, 1, 1, 1, 1, 1, 1, 1, 1, 1, 1, 1, 1,\n",
       "        1, 1, 1, 1, 0, 0, 0, 0, 0, 0, 0, 0, 0, 0, 0, 0, 0, 0, 0, 0, 0, 0, 0,\n",
       "        0, 0, 0, 0, 0, 0, 0, 0, 0, 0, 0, 0, 0, 0, 0, 0, 0, 0, 0, 0, 0, 0, 0,\n",
       "        0, 0, 0, 0, 0, 0, 0, 0, 0, 0, 0, 0, 0, 0, 0, 0, 0, 0, 0, 0, 0, 0, 0,\n",
       "        0, 0, 0, 0, 0, 0, 0, 0, 0, 0, 0, 0, 0, 0, 0, 0, 0, 0, 0, 0, 0, 0, 0,\n",
       "        0, 0, 0, 0, 0, 0, 0, 0, 0, 0, 0, 0]))"
      ]
     },
     "execution_count": 31,
     "metadata": {},
     "output_type": "execute_result"
    }
   ],
   "source": [
    "prepare_dataset(pd_data)"
   ]
  },
  {
   "cell_type": "code",
   "execution_count": null,
   "metadata": {
    "collapsed": true
   },
   "outputs": [],
   "source": [
    "def plot_gradient_regularization(dataset, regularizations, colors, gradient_parameters): \n",
    "    X, Y = dataset\n",
    "    plt.scatter(X1, Y)\n",
    "    for regularization, color in zip(regularizations, colors):\n",
    "        weights = regularized_gradient_descent(X, Y, regularization_size=regularization, **gradient_parameters)\n",
    "        plt.plot(X1, predict(weights, X), color)   \n",
    "    plt.show()"
   ]
  },
  {
   "cell_type": "code",
   "execution_count": null,
   "metadata": {
    "collapsed": false
   },
   "outputs": [],
   "source": []
  },
  {
   "cell_type": "code",
   "execution_count": null,
   "metadata": {
    "collapsed": false
   },
   "outputs": [],
   "source": []
  },
  {
   "cell_type": "markdown",
   "metadata": {},
   "source": [
    "# classification example: http://cs.stanford.edu/people/karpathy/convnetjs/demo/classify2d.html"
   ]
  }
 ],
 "metadata": {
  "kernelspec": {
   "display_name": "Python 3",
   "language": "python",
   "name": "python3"
  },
  "language_info": {
   "codemirror_mode": {
    "name": "ipython",
    "version": 3
   },
   "file_extension": ".py",
   "mimetype": "text/x-python",
   "name": "python",
   "nbconvert_exporter": "python",
   "pygments_lexer": "ipython3",
   "version": "3.5.1"
  }
 },
 "nbformat": 4,
 "nbformat_minor": 0
}
